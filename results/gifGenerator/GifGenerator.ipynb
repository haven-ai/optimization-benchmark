{
  "nbformat": 4,
  "nbformat_minor": 0,
  "metadata": {
    "colab": {
      "name": "GifGenerator.ipynb",
      "provenance": []
    },
    "kernelspec": {
      "name": "python3",
      "display_name": "Python 3"
    },
    "language_info": {
      "name": "python"
    }
  },
  "cells": [
    {
      "cell_type": "code",
      "metadata": {
        "id": "NfMtCP4D6ie9"
      },
      "source": [
        "import imageio\n",
        "images = []\n",
        "for i in range(1,8):\n",
        "  filename = str(i)+\".png\"\n",
        "  images.append(imageio.imread(filename))\n",
        "imageio.mimsave('movie.gif', images)"
      ],
      "execution_count": 3,
      "outputs": []
    }
  ]
}