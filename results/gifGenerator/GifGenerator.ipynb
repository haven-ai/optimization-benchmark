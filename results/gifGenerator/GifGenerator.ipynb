{
  "nbformat": 4,
  "nbformat_minor": 0,
  "metadata": {
    "colab": {
      "name": "GifGenerator.ipynb",
      "provenance": []
    },
    "kernelspec": {
      "name": "python3",
      "display_name": "Python 3"
    },
    "language_info": {
      "name": "python"
    }
  },
  "cells": [
    {
      "cell_type": "code",
      "metadata": {
        "id": "NfMtCP4D6ie9"
      },
      "source": [
        "import imageio\n",
        "import os\n",
        "path = \"./imgs/\"\n",
        "num_ite = 4\n",
        "imgs = os.listdir(path)\n",
        "images = []\n",
        "for filename in imgs:\n",
        "  filename = path + filename\n",
        "  for i in range(4):\n",
        "    images.append(imageio.imread(filename))\n",
        "  \n",
        "imageio.mimsave('val_score.gif', images)"
      ],
      "execution_count": 17,
      "outputs": []
    }
  ]
}