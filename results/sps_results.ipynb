{
 "cells": [
  {
   "cell_type": "code",
   "execution_count": 3,
   "metadata": {},
   "outputs": [
    {
     "data": {
      "application/vnd.jupyter.widget-view+json": {
       "model_id": "0e1822e6c684413dbbd53480076ece12",
       "version_major": 2,
       "version_minor": 0
      },
      "text/plain": [
       "Label(value='Loading Dashboard...', layout=Layout(width='800px'))"
      ]
     },
     "metadata": {},
     "output_type": "display_data"
    },
    {
     "data": {
      "application/javascript": [
       "\n",
       "        require.config({\n",
       "            paths: {\n",
       "                DT: '//cdn.datatables.net/1.10.19/js/jquery.dataTables.min',\n",
       "            }\n",
       "        });\n",
       "        $('head').append('<link rel=\"stylesheet\" type=\"text/css\" href=\"//cdn.datatables.net/1.10.19/css/jquery.dataTables.min.css\">');\n",
       "    "
      ],
      "text/plain": [
       "<IPython.core.display.Javascript object>"
      ]
     },
     "metadata": {},
     "output_type": "display_data"
    },
    {
     "data": {
      "application/vnd.jupyter.widget-view+json": {
       "model_id": "f88ae67eafa0435c82cc212c9a569264",
       "version_major": 2,
       "version_minor": 0
      },
      "text/plain": [
       "Output()"
      ]
     },
     "metadata": {},
     "output_type": "display_data"
    },
    {
     "data": {
      "text/html": [
       "<style>.container { width:100% !important; }</style>"
      ],
      "text/plain": [
       "<IPython.core.display.HTML object>"
      ]
     },
     "metadata": {},
     "output_type": "display_data"
    },
    {
     "data": {
      "text/html": [
       "\n",
       "        <style>\n",
       "            .output_scroll {\n",
       "                height: unset !important;\n",
       "                border-radius: unset !important;\n",
       "                -webkit-box-shadow: unset !important;\n",
       "                box-shadow: unset !important;\n",
       "            }\n",
       "        </style>\n",
       "        "
      ],
      "text/plain": [
       "<IPython.core.display.HTML object>"
      ]
     },
     "metadata": {},
     "output_type": "display_data"
    },
    {
     "data": {
      "text/plain": [
       "<haven.haven_jupyter.DashboardManager at 0x7f78bd4bfe50>"
      ]
     },
     "execution_count": 3,
     "metadata": {},
     "output_type": "execute_result"
    }
   ],
   "source": [
    "from haven import haven_jupyter as hj\n",
    "from haven import haven_results as hr\n",
    "from haven import haven_utils as hu\n",
    "\n",
    "# path to where the experiments got saved\n",
    "savedir_base = '/mnt/public/results/debug/sps'\n",
    "savedir_base = '/mnt/public/results/toolkit/sps'\n",
    "\n",
    "exp_list = []\n",
    "for exp_group in [\n",
    "#     \"ae_mixup\"\n",
    "# #     \"sanity_check\"\n",
    "    \"sps_mnist\",\n",
    "    \"sps_syn\",\n",
    "#      \"main_clf\"\n",
    "#     \"mnist_clf\"\n",
    "#     \"clf_omniglot\",\n",
    "#     \"gen_omniglot\",\n",
    "                 ]:\n",
    "    exp_list += hu.load_py('/mnt/home/projects/sps_momentum/exp_configs/sps_exps.py').EXP_GROUPS[exp_group]\n",
    "\n",
    "# get experiments\n",
    "rm = hr.ResultManager(\n",
    "    exp_list=exp_list, \n",
    "#     filterby_list=[{'dataset.name':'flowerss'}],\n",
    "#     exp_ids=['dcd2c19a2db075872bc1ec0f092ad741'],\n",
    "                      savedir_base=savedir_base, \n",
    "                      verbose=0\n",
    "                     )\n",
    "# print(len(rm.exp_list))\n",
    "# stop\n",
    "# y_metrics = ['d_loss', 'g_loss', 'c_loss']\n",
    "y_metrics = ['train_loss', 'step_size']\n",
    "x_metric = 'epoch'\n",
    "bar_agg = 'max'\n",
    "mode = 'line'\n",
    "figsize = (8,5)\n",
    "figsize = (20,10)\n",
    "legend_list = ['opt.name', 'opt.c', 'opt.momentum', 'opt.gamma']\n",
    "# legend_list = None\n",
    "legend_format = ''\n",
    "title_list = ['dataset', 'margin']\n",
    "# title_format = '{} - batch size: {}'\n",
    "# title_format = 'dataset'\n",
    "title_format = ''\n",
    "# groupby_list = ['batch_size']\n",
    "# groupby_list = ['lr']\n",
    "groupby_list = ['dataset', 'margin']\n",
    "# filterby_list = None\n",
    "# filterby_list = {'dataset':'svhn'}\n",
    "filterby_list = [{'dataset':'mnist', 'model':{'name':'cgan_mixup','dec_type':'style'}}]\n",
    "filterby_list = [{'dataset':'mnist', 'model':{'name':'cgan_mixup','dec_type':None}}]\n",
    "filterby_list = [{'dataset':'svhn', 'model':{'name':'cgan_mixup','dec_type':None}}]\n",
    "# filterby_list = {'dataset':'omniglot'}\n",
    "# filterby_list = {'mixup_k':5, 'dataset':'mnist'}\n",
    "# filterby_list = {'batch_size': 128}\n",
    "# filterby_list = [{'dataset.name':'omniglot'}]\n",
    "filterby_list=[\n",
    "                ({'dataset.name':'emnist_f2gan'}, {'best':{'metric':'val_acc', 'metric_agg':'max'}}),\n",
    "#                 {'dataset.name':'omniglot_f2gan'},\n",
    "#     {'dataset.name':'emnist_f2gan'}\n",
    "                  \n",
    "              ]\n",
    "filterby_list = [{'opt.gamma':1}]\n",
    "filterby_list = [\n",
    "#     {'opt.momentum':.9},\n",
    "    {'opt.momentum':.3},\n",
    "     {'opt.momentum':.49},\n",
    "    {'opt.momentum':.5},\n",
    "    {'opt.momentum':0.},  \n",
    "    {'opt.momentum':None}\n",
    "]\n",
    "n_images = 10\n",
    "n_exps = 100\n",
    "\n",
    "hj.get_dashboard(rm, vars(), wide_display=True)"
   ]
  }
 ],
 "metadata": {
  "kernelspec": {
   "display_name": "Python 3",
   "language": "python",
   "name": "python3"
  },
  "language_info": {
   "codemirror_mode": {
    "name": "ipython",
    "version": 3
   },
   "file_extension": ".py",
   "mimetype": "text/x-python",
   "name": "python",
   "nbconvert_exporter": "python",
   "pygments_lexer": "ipython3",
   "version": "3.7.6"
  }
 },
 "nbformat": 4,
 "nbformat_minor": 4
}
